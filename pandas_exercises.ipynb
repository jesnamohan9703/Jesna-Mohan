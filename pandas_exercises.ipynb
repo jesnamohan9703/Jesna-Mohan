{
  "cells": [
    {
      "cell_type": "markdown",
      "metadata": {
        "id": "view-in-github",
        "colab_type": "text"
      },
      "source": [
        "<a href=\"https://colab.research.google.com/github/Jisha-John/test_workshop/blob/main/pandas_exercises.ipynb\" target=\"_parent\"><img src=\"https://colab.research.google.com/assets/colab-badge.svg\" alt=\"Open In Colab\"/></a>"
      ]
    },
    {
      "cell_type": "markdown",
      "metadata": {
        "id": "28sOdJ6jeEUw"
      },
      "source": [
        "# Pandas Practice\n"
      ]
    },
    {
      "cell_type": "code",
      "execution_count": 3,
      "metadata": {
        "id": "kQahoLI_eEUz"
      },
      "outputs": [],
      "source": [
        "import pandas as pd\n",
        "import numpy as np\n",
        "import matplotlib.pyplot as plt\n"
      ]
    },
    {
      "cell_type": "code",
      "execution_count": 5,
      "metadata": {
        "id": "Cf6HfUwOeEU1"
      },
      "outputs": [],
      "source": [
        "colors= np.array(['red', 'white', 'blue'])\n",
        " \n",
        "ser1 = pd.Series(colors)\n",
        "\n"
      ]
    },
    {
      "cell_type": "code",
      "execution_count": 7,
      "metadata": {
        "colab": {
          "base_uri": "https://localhost:8080/"
        },
        "id": "-TfUUB_keEU2",
        "outputId": "e6442b6d-81c2-4800-e587-7b9d3795b176"
      },
      "outputs": [
        {
          "output_type": "stream",
          "name": "stdout",
          "text": [
            "0      red\n",
            "1    white\n",
            "2     blue\n",
            "dtype: object\n"
          ]
        }
      ],
      "source": [
        "print(ser1)\n"
      ]
    },
    {
      "cell_type": "code",
      "execution_count": 11,
      "metadata": {
        "colab": {
          "base_uri": "https://localhost:8080/"
        },
        "id": "EWt8dKkreEU3",
        "outputId": "c91f806d-4119-4baa-9a33-7fda666d73ba"
      },
      "outputs": [
        {
          "output_type": "stream",
          "name": "stdout",
          "text": [
            "  colors car_types\n",
            "0    red    nissan\n",
            "1  white    toyota\n",
            "2   blue     honda\n"
          ]
        }
      ],
      "source": [
        "# Combine the Series of cars and colours into a DataFrame\n",
        "cars = ({\n",
        "    'colors':ser1,\n",
        "    'car_types' :ser2\n",
        "               })\n",
        "df = pd.DataFrame(cars)\n",
        "print(df)\n"
      ]
    },
    {
      "cell_type": "code",
      "execution_count": 9,
      "metadata": {
        "colab": {
          "base_uri": "https://localhost:8080/"
        },
        "id": "BlfzDIPNeEU2",
        "outputId": "13a76fd2-770a-49f3-b67d-5aae276b821a"
      },
      "outputs": [
        {
          "output_type": "stream",
          "name": "stdout",
          "text": [
            "0    nissan\n",
            "1    toyota\n",
            "2     honda\n",
            "dtype: object\n"
          ]
        }
      ],
      "source": [
        "car_types = np.array(['nissan', 'toyota', 'honda'])\n",
        " \n",
        "ser2 = pd.Series(car_types)\n",
        "\n",
        "print(ser2)"
      ]
    },
    {
      "cell_type": "code",
      "execution_count": 17,
      "metadata": {
        "colab": {
          "base_uri": "https://localhost:8080/"
        },
        "id": "_94x5srseEU3",
        "outputId": "56a805c7-0543-403d-93d8-4446e30b9402"
      },
      "outputs": [
        {
          "output_type": "stream",
          "name": "stdout",
          "text": [
            "     Make Colour  Odometer (KM)  Doors       Price\n",
            "0  Toyota  White         150043      4   $4,000.00\n",
            "1   Honda    Red          87899      4   $5,000.00\n",
            "2  Toyota   Blue          32549      3   $7,000.00\n",
            "3     BMW  Black          11179      5  $22,000.00\n",
            "4  Nissan  White         213095      4   $3,500.00\n",
            "5  Toyota  Green          99213      4   $4,500.00\n",
            "6   Honda   Blue          45698      4   $7,500.00\n",
            "7   Honda   Blue          54738      4   $7,000.00\n",
            "8  Toyota  White          60000      4   $6,250.00\n",
            "9  Nissan  White          31600      4   $9,700.00\n"
          ]
        }
      ],
      "source": [
        "url=\"https://raw.githubusercontent.com/Jisha-John/test_workshop/main/car-sales.csv\"\n",
        "df = pd.read_csv(url)\n",
        "print(df)\n",
        "# Import \"../data/car-sales.csv\" and turn it into a DataFrame\n"
      ]
    },
    {
      "cell_type": "markdown",
      "metadata": {
        "id": "P3k4OAGoeEU3"
      },
      "source": [
        "**Note:** Since you've imported `car-sales.csv` as a DataFrame, we'll now refer to this DataFrame as 'the car sales DataFrame'."
      ]
    },
    {
      "cell_type": "code",
      "execution_count": 18,
      "metadata": {
        "id": "4TBwcFr-eEU4"
      },
      "outputs": [],
      "source": [
        "df.to_csv('cars_details.csv')\n",
        "# Export the DataFrame you created to a .csv file\n"
      ]
    },
    {
      "cell_type": "code",
      "execution_count": 19,
      "metadata": {
        "colab": {
          "base_uri": "https://localhost:8080/"
        },
        "id": "VmxCLsWheEU4",
        "outputId": "83b432c7-9c86-496b-aff5-4525d569f2b1"
      },
      "outputs": [
        {
          "output_type": "stream",
          "name": "stdout",
          "text": [
            "Make             object\n",
            "Colour           object\n",
            "Odometer (KM)     int64\n",
            "Doors             int64\n",
            "Price            object\n",
            "dtype: object\n"
          ]
        }
      ],
      "source": [
        "print(df.dtypes)\n",
        "# Find the different datatypes of the car data DataFrame\n"
      ]
    },
    {
      "cell_type": "code",
      "execution_count": 20,
      "metadata": {
        "colab": {
          "base_uri": "https://localhost:8080/"
        },
        "id": "NpqjZntzeEU5",
        "outputId": "8f6c5bfa-9ff5-446d-a534-dd7d52d6672f"
      },
      "outputs": [
        {
          "output_type": "stream",
          "name": "stdout",
          "text": [
            "       Odometer (KM)      Doors\n",
            "count      10.000000  10.000000\n",
            "mean    78601.400000   4.000000\n",
            "std     61983.471735   0.471405\n",
            "min     11179.000000   3.000000\n",
            "25%     35836.250000   4.000000\n",
            "50%     57369.000000   4.000000\n",
            "75%     96384.500000   4.000000\n",
            "max    213095.000000   5.000000\n"
          ]
        }
      ],
      "source": [
        "print(df.describe())\n",
        "# Describe your current car sales DataFrame using describe()\n"
      ]
    },
    {
      "cell_type": "code",
      "execution_count": 21,
      "metadata": {
        "colab": {
          "base_uri": "https://localhost:8080/"
        },
        "id": "MBOgGT6jeEU5",
        "outputId": "1f47a8eb-cdcc-46bd-c260-410182c1ced4"
      },
      "outputs": [
        {
          "output_type": "stream",
          "name": "stdout",
          "text": [
            "<class 'pandas.core.frame.DataFrame'>\n",
            "RangeIndex: 10 entries, 0 to 9\n",
            "Data columns (total 5 columns):\n",
            " #   Column         Non-Null Count  Dtype \n",
            "---  ------         --------------  ----- \n",
            " 0   Make           10 non-null     object\n",
            " 1   Colour         10 non-null     object\n",
            " 2   Odometer (KM)  10 non-null     int64 \n",
            " 3   Doors          10 non-null     int64 \n",
            " 4   Price          10 non-null     object\n",
            "dtypes: int64(2), object(3)\n",
            "memory usage: 528.0+ bytes\n",
            "None\n"
          ]
        }
      ],
      "source": [
        "print(df.info())\n",
        "# Get information about your DataFrame using info()\n"
      ]
    },
    {
      "cell_type": "markdown",
      "metadata": {
        "id": "zfi1zGzgeEU5"
      },
      "source": [
        "What does it show you?"
      ]
    },
    {
      "cell_type": "code",
      "execution_count": 23,
      "metadata": {
        "colab": {
          "base_uri": "https://localhost:8080/"
        },
        "id": "VDL46AadeEU6",
        "outputId": "89099cb0-dd24-4e11-d575-d71d4a6ebe5f"
      },
      "outputs": [
        {
          "output_type": "stream",
          "name": "stdout",
          "text": [
            "2.5\n"
          ]
        }
      ],
      "source": [
        "\n",
        "num= np.array([1,2,3,4])\n",
        " \n",
        "ser = pd.Series(num)\n",
        "print(ser.mean())\n",
        "# Create a Series of different numbers and find the mean of them\n"
      ]
    },
    {
      "cell_type": "code",
      "execution_count": 24,
      "metadata": {
        "colab": {
          "base_uri": "https://localhost:8080/"
        },
        "id": "j8VON_OeeEU6",
        "outputId": "ab25c597-124c-4636-d4bb-444090554a3f"
      },
      "outputs": [
        {
          "output_type": "stream",
          "name": "stdout",
          "text": [
            "10\n"
          ]
        }
      ],
      "source": [
        "num= np.array([1,2,3,4])\n",
        " \n",
        "ser = pd.Series(num)\n",
        "print(ser.sum())\n",
        "# Create a Series of different numbers and find the sum of them\n"
      ]
    },
    {
      "cell_type": "code",
      "execution_count": 25,
      "metadata": {
        "colab": {
          "base_uri": "https://localhost:8080/"
        },
        "id": "tMDS1IUGeEU6",
        "outputId": "af34c064-508c-43d9-c063-4ae48531b456"
      },
      "outputs": [
        {
          "output_type": "stream",
          "name": "stdout",
          "text": [
            "Index(['Make', 'Colour', 'Odometer (KM)', 'Doors', 'Price'], dtype='object')\n"
          ]
        }
      ],
      "source": [
        "print(df.columns)\n",
        "# List out all the column names of the car sales DataFrame\n"
      ]
    },
    {
      "cell_type": "code",
      "execution_count": 29,
      "metadata": {
        "colab": {
          "base_uri": "https://localhost:8080/"
        },
        "id": "Dwv7yPVxeEU6",
        "outputId": "1a3f3815-4a53-4279-9dfc-84ea7f2e7f83"
      },
      "outputs": [
        {
          "output_type": "stream",
          "name": "stdout",
          "text": [
            "10\n"
          ]
        }
      ],
      "source": [
        "print(len(df))\n",
        "# Find the length of the car sales DataFrame\n"
      ]
    },
    {
      "cell_type": "code",
      "execution_count": 30,
      "metadata": {
        "colab": {
          "base_uri": "https://localhost:8080/"
        },
        "id": "JbAvXeWneEU6",
        "outputId": "e23ec2d3-2164-4e43-ac38-3247c9bbd8ba"
      },
      "outputs": [
        {
          "output_type": "stream",
          "name": "stdout",
          "text": [
            "     Make Colour  Odometer (KM)  Doors       Price\n",
            "0  Toyota  White         150043      4   $4,000.00\n",
            "1   Honda    Red          87899      4   $5,000.00\n",
            "2  Toyota   Blue          32549      3   $7,000.00\n",
            "3     BMW  Black          11179      5  $22,000.00\n",
            "4  Nissan  White         213095      4   $3,500.00\n"
          ]
        }
      ],
      "source": [
        "print(df.head(5))\n",
        "# Show the first 5 rows of the car sales DataFrame\n"
      ]
    },
    {
      "cell_type": "code",
      "execution_count": 31,
      "metadata": {
        "colab": {
          "base_uri": "https://localhost:8080/"
        },
        "id": "HTdRfiXCeEU7",
        "outputId": "94de89ea-5b2c-474d-91a1-4aa1f1b6ab3d"
      },
      "outputs": [
        {
          "output_type": "stream",
          "name": "stdout",
          "text": [
            "     Make Colour  Odometer (KM)  Doors       Price\n",
            "0  Toyota  White         150043      4   $4,000.00\n",
            "1   Honda    Red          87899      4   $5,000.00\n",
            "2  Toyota   Blue          32549      3   $7,000.00\n",
            "3     BMW  Black          11179      5  $22,000.00\n",
            "4  Nissan  White         213095      4   $3,500.00\n",
            "5  Toyota  Green          99213      4   $4,500.00\n",
            "6   Honda   Blue          45698      4   $7,500.00\n"
          ]
        }
      ],
      "source": [
        "print(df.head(7))\n",
        "# Show the first 7 rows of the car sales DataFrame\n"
      ]
    },
    {
      "cell_type": "code",
      "execution_count": 32,
      "metadata": {
        "colab": {
          "base_uri": "https://localhost:8080/"
        },
        "id": "BMVd7qGHeEU7",
        "outputId": "de1f09e2-f9ff-42f4-9ce5-496c02fa2bfb"
      },
      "outputs": [
        {
          "output_type": "stream",
          "name": "stdout",
          "text": [
            "     Make Colour  Odometer (KM)  Doors      Price\n",
            "5  Toyota  Green          99213      4  $4,500.00\n",
            "6   Honda   Blue          45698      4  $7,500.00\n",
            "7   Honda   Blue          54738      4  $7,000.00\n",
            "8  Toyota  White          60000      4  $6,250.00\n",
            "9  Nissan  White          31600      4  $9,700.00\n"
          ]
        }
      ],
      "source": [
        "print(df.tail(5))\n",
        "# Show the bottom 5 rows of the car sales DataFrame\n"
      ]
    },
    {
      "cell_type": "code",
      "execution_count": 34,
      "metadata": {
        "colab": {
          "base_uri": "https://localhost:8080/"
        },
        "id": "YFsweq-OeEU7",
        "outputId": "5ff466fb-12ed-4af3-fa43-b29e8ac2410b"
      },
      "outputs": [
        {
          "output_type": "stream",
          "name": "stdout",
          "text": [
            "  Make Colour  Odometer (KM)  Doors       Price\n",
            "3  BMW  Black          11179      5  $22,000.00\n"
          ]
        }
      ],
      "source": [
        "print(df.loc[[3]])\n",
        "# Use .loc to select the row at index 3 of the car sales DataFrame\n"
      ]
    },
    {
      "cell_type": "code",
      "execution_count": 35,
      "metadata": {
        "colab": {
          "base_uri": "https://localhost:8080/"
        },
        "id": "gLR9uZLyeEU7",
        "outputId": "811e9576-3583-4a2f-9988-3c9dd04b928d"
      },
      "outputs": [
        {
          "output_type": "stream",
          "name": "stdout",
          "text": [
            "  Make Colour  Odometer (KM)  Doors       Price\n",
            "3  BMW  Black          11179      5  $22,000.00\n"
          ]
        }
      ],
      "source": [
        "print(df.iloc[[3]])\n",
        "# Use .iloc to select the row at position 3 of the car sales DataFrame\n"
      ]
    },
    {
      "cell_type": "markdown",
      "metadata": {
        "id": "hJ2vZrQQeEU7"
      },
      "source": [
        "Notice how they're the same? Why do you think this is? \n",
        "\n",
        "Check the pandas documentation for [.loc](https://pandas.pydata.org/pandas-docs/stable/reference/api/pandas.DataFrame.loc.html) and [.iloc](https://pandas.pydata.org/pandas-docs/stable/reference/api/pandas.DataFrame.iloc.html). Think about a different situation each could be used for and try them out."
      ]
    },
    {
      "cell_type": "code",
      "execution_count": null,
      "metadata": {
        "id": "Ki8pClUueEU8"
      },
      "outputs": [],
      "source": [
        "# Select the \"Odometer (KM)\" column from the car sales DataFrame\n"
      ]
    },
    {
      "cell_type": "code",
      "execution_count": null,
      "metadata": {
        "id": "HoBvhCs-eEU8"
      },
      "outputs": [],
      "source": [
        "# Find the mean of the \"Odometer (KM)\" column in the car sales DataFrame\n"
      ]
    },
    {
      "cell_type": "code",
      "execution_count": null,
      "metadata": {
        "id": "8L1T3NMoeEU8"
      },
      "outputs": [],
      "source": [
        "# Select the rows with over 100,000 kilometers on the Odometer\n"
      ]
    },
    {
      "cell_type": "code",
      "execution_count": null,
      "metadata": {
        "id": "XxAYFLLkeEU8"
      },
      "outputs": [],
      "source": [
        "# Create a crosstab of the Make and Doors columns\n"
      ]
    },
    {
      "cell_type": "code",
      "execution_count": null,
      "metadata": {
        "id": "ft8XswjweEU8"
      },
      "outputs": [],
      "source": [
        "# Group columns of the car sales DataFrame by the Make column and find the average\n"
      ]
    },
    {
      "cell_type": "code",
      "execution_count": null,
      "metadata": {
        "id": "HCWKi2FmeEU9"
      },
      "outputs": [],
      "source": [
        "# Import Matplotlib and create a plot of the Odometer column\n",
        "# Don't forget to use %matplotlib inline\n"
      ]
    },
    {
      "cell_type": "code",
      "execution_count": null,
      "metadata": {
        "id": "50yuoThseEU9"
      },
      "outputs": [],
      "source": [
        "# Create a histogram of the Odometer column using hist()\n"
      ]
    },
    {
      "cell_type": "code",
      "execution_count": null,
      "metadata": {
        "id": "MKa3_7YBeEU9"
      },
      "outputs": [],
      "source": [
        "# Try to plot the Price column using plot()\n"
      ]
    },
    {
      "cell_type": "markdown",
      "metadata": {
        "id": "gEYBVlUUeEU9"
      },
      "source": [
        "Why didn't it work? Can you think of a solution?"
      ]
    },
    {
      "cell_type": "code",
      "execution_count": null,
      "metadata": {
        "id": "WFc1CgXjeEU9"
      },
      "outputs": [],
      "source": [
        "# Remove the punctuation from price column\n"
      ]
    },
    {
      "cell_type": "code",
      "execution_count": null,
      "metadata": {
        "id": "91HnBN43eEU9"
      },
      "outputs": [],
      "source": [
        "# Check the changes to the price column\n"
      ]
    },
    {
      "cell_type": "code",
      "execution_count": null,
      "metadata": {
        "id": "nKatkOykeEU9"
      },
      "outputs": [],
      "source": [
        "# Remove the two extra zeros at the end of the price column\n"
      ]
    },
    {
      "cell_type": "code",
      "execution_count": null,
      "metadata": {
        "id": "5GjIuVBgeEU-"
      },
      "outputs": [],
      "source": [
        "# Check the changes to the Price column\n"
      ]
    },
    {
      "cell_type": "code",
      "execution_count": null,
      "metadata": {
        "id": "n5TTtML-eEU-"
      },
      "outputs": [],
      "source": [
        "# Change the datatype of the Price column to integers\n"
      ]
    },
    {
      "cell_type": "code",
      "execution_count": null,
      "metadata": {
        "id": "RVCkFUiReEU-"
      },
      "outputs": [],
      "source": [
        "# Lower the strings of the Make column\n"
      ]
    },
    {
      "cell_type": "markdown",
      "metadata": {
        "id": "Yq3Vsa0FeEU-"
      },
      "source": [
        "If you check the car sales DataFrame, you'll notice the Make column hasn't been lowered.\n",
        "\n",
        "How could you make these changes permanent?\n",
        "\n",
        "Try it out."
      ]
    },
    {
      "cell_type": "code",
      "execution_count": null,
      "metadata": {
        "id": "ZfQKCnd0eEU-"
      },
      "outputs": [],
      "source": [
        "# Make lowering the case of the Make column permanent\n"
      ]
    },
    {
      "cell_type": "code",
      "execution_count": null,
      "metadata": {
        "id": "ieDz_dlveEU-"
      },
      "outputs": [],
      "source": [
        "# Check the car sales DataFrame\n"
      ]
    },
    {
      "cell_type": "markdown",
      "metadata": {
        "id": "ijRPySFTeEU-"
      },
      "source": [
        "Notice how the Make column stays lowered after reassigning.\n",
        "\n",
        "Now let's deal with missing data."
      ]
    },
    {
      "cell_type": "code",
      "execution_count": null,
      "metadata": {
        "id": "U5uiQF5KeEU_"
      },
      "outputs": [],
      "source": [
        "# Import the car sales DataFrame with missing data (\"../data/car-sales-missing-data.csv\")\n",
        "\n",
        "\n",
        "# Check out the new DataFrame\n"
      ]
    },
    {
      "cell_type": "markdown",
      "metadata": {
        "id": "B9_WXzC_eEU_"
      },
      "source": [
        "Notice the missing values are represented as `NaN` in pandas DataFrames.\n",
        "\n",
        "Let's try fill them."
      ]
    },
    {
      "cell_type": "code",
      "execution_count": null,
      "metadata": {
        "id": "d17TvEHoeEU_"
      },
      "outputs": [],
      "source": [
        "# Fill the Odometer column missing values with the mean of the column inplace\n"
      ]
    },
    {
      "cell_type": "code",
      "execution_count": null,
      "metadata": {
        "id": "vcR5QjyIeEU_"
      },
      "outputs": [],
      "source": [
        "# View the car sales missing DataFrame and verify the changes\n"
      ]
    },
    {
      "cell_type": "code",
      "execution_count": null,
      "metadata": {
        "id": "5znJbpNpeEU_"
      },
      "outputs": [],
      "source": [
        "# Remove the rest of the missing data inplace\n"
      ]
    },
    {
      "cell_type": "code",
      "execution_count": null,
      "metadata": {
        "id": "5s6midv0eEU_"
      },
      "outputs": [],
      "source": [
        "# Verify the missing values are removed by viewing the DataFrame\n"
      ]
    },
    {
      "cell_type": "markdown",
      "metadata": {
        "id": "4qfKbT6weEU_"
      },
      "source": [
        "We'll now start to add columns to our DataFrame."
      ]
    },
    {
      "cell_type": "code",
      "execution_count": null,
      "metadata": {
        "id": "wYHLtJY7eEU_"
      },
      "outputs": [],
      "source": [
        "# Create a \"Seats\" column where every row has a value of 5\n"
      ]
    },
    {
      "cell_type": "code",
      "execution_count": null,
      "metadata": {
        "id": "a4xdfJ47eEVA"
      },
      "outputs": [],
      "source": [
        "# Create a column called \"Engine Size\" with random values between 1.3 and 4.5\n",
        "# Remember: If you're doing it from a Python list, the list has to be the same length\n",
        "# as the DataFrame\n"
      ]
    },
    {
      "cell_type": "code",
      "execution_count": null,
      "metadata": {
        "id": "BpBOjBGkeEVA"
      },
      "outputs": [],
      "source": [
        "# Create a column which represents the price of a car per kilometer\n",
        "# Then view the DataFrame\n"
      ]
    },
    {
      "cell_type": "code",
      "execution_count": null,
      "metadata": {
        "id": "CUDUBZ_LeEVA"
      },
      "outputs": [],
      "source": [
        "# Remove the last column you added using .drop()\n"
      ]
    },
    {
      "cell_type": "code",
      "execution_count": null,
      "metadata": {
        "id": "F1NvGD5DeEVA"
      },
      "outputs": [],
      "source": [
        "# Shuffle the DataFrame using sample() with the frac parameter set to 1\n",
        "# Save the the shuffled DataFrame to a new variable\n"
      ]
    },
    {
      "cell_type": "markdown",
      "metadata": {
        "id": "p1DC2_bEeEVA"
      },
      "source": [
        "Notice how the index numbers get moved around. The [`sample()`](https://pandas.pydata.org/pandas-docs/stable/reference/api/pandas.DataFrame.sample.html) function is a great way to get random samples from your DataFrame. It's also another great way to shuffle the rows by setting `frac=1`."
      ]
    },
    {
      "cell_type": "code",
      "execution_count": null,
      "metadata": {
        "id": "mQtMDe8meEVA"
      },
      "outputs": [],
      "source": [
        "# Reset the indexes of the shuffled DataFrame\n"
      ]
    },
    {
      "cell_type": "markdown",
      "metadata": {
        "id": "FsI9aQ3JeEVA"
      },
      "source": [
        "Notice the index numbers have been changed to have order (start from 0)."
      ]
    },
    {
      "cell_type": "code",
      "execution_count": null,
      "metadata": {
        "id": "8zO2KToseEVA"
      },
      "outputs": [],
      "source": [
        "# Change the Odometer values from kilometers to miles using a Lambda function\n",
        "# Then view the DataFrame\n"
      ]
    },
    {
      "cell_type": "code",
      "execution_count": null,
      "metadata": {
        "id": "jt0ZWiX-eEVB"
      },
      "outputs": [],
      "source": [
        "# Change the title of the Odometer (KM) to represent miles instead of kilometers\n"
      ]
    }
  ],
  "metadata": {
    "kernelspec": {
      "display_name": "Python 3 (ipykernel)",
      "language": "python",
      "name": "python3"
    },
    "language_info": {
      "codemirror_mode": {
        "name": "ipython",
        "version": 3
      },
      "file_extension": ".py",
      "mimetype": "text/x-python",
      "name": "python",
      "nbconvert_exporter": "python",
      "pygments_lexer": "ipython3",
      "version": "3.10.6"
    },
    "colab": {
      "provenance": [],
      "include_colab_link": true
    }
  },
  "nbformat": 4,
  "nbformat_minor": 0
}